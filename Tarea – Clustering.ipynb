{
 "cells": [
  {
   "cell_type": "markdown",
   "metadata": {},
   "source": [
    "# <center> Simulación caso de Negocio - Clustering </center>"
   ]
  },
  {
   "cell_type": "markdown",
   "metadata": {},
   "source": [
    "El objetivo de esta actividad es diseñar e implementar un modelo de Clustering en Python para la resolución de un problema en el que cuenta con variables numéricas y categóricas y en el que se busca fortalecer los conocimientos teóricos y prácticos de la aplicación de las técnicas de segmentación en los negocios. \n",
    "\n",
    "💡 _**Nota**_: _Este material ha sido preparado por la **Universidad de las Américas - UDLA**. Parte del contenido ha sido adaptado a partir de material público liberado en [Kaggle](http://kaggle.com), [Datacamp](http://datacamp.com) y otros sitios web._"
   ]
  },
  {
   "cell_type": "markdown",
   "metadata": {},
   "source": [
    "## Sobre la empresa\n",
    "\n",
    "El siguiente caso de negocio es tomado de una e-commerce con sede en el Reino Unido conocida como **ACORA Group** especializada en la comercialización de productos de consumo masivo a través de su tienda online. La empresa cuenta con operaciones en varios países y tiene planes de expansión a nivel regional."
   ]
  },
  {
   "cell_type": "markdown",
   "metadata": {},
   "source": [
    "## 1. Evaluación de necesidades del negocio\n",
    "La fase de evaluación del caso de negocio requiere que se cree, evalúe y apruebe un caso de negocio antes de proceder a las tareas reales de análisis práctico."
   ]
  },
  {
   "cell_type": "markdown",
   "metadata": {},
   "source": [
    "Uno de los desafíos que se ha planteado **ACORA Group** es segmentar sus clientes de manera que los esfuerzos comerciales de la empresa sean correctamente dirigidos en base a la misma información que genera la organización. "
   ]
  },
  {
   "cell_type": "markdown",
   "metadata": {},
   "source": [
    "# 2. Identificación de datos\n",
    "La etapa de identificación de datos consiste en identificar los conjuntos de datos necesarios para el proyecto de análisis y sus fuentes.\n"
   ]
  },
  {
   "cell_type": "markdown",
   "metadata": {
    "application/vnd.databricks.v1+cell": {
     "cellMetadata": {},
     "inputWidgets": {},
     "nuid": "a20fb359-f29e-4632-ade1-19357bf2a37e",
     "showTitle": false,
     "title": ""
    }
   },
   "source": [
    "**Dataset**"
   ]
  },
  {
   "cell_type": "markdown",
   "metadata": {},
   "source": [
    "Este conjunto de datos contiene la información referente a las transacciones de compra de todas las tiendas de los 3 últimos años. "
   ]
  },
  {
   "cell_type": "markdown",
   "metadata": {
    "application/vnd.databricks.v1+cell": {
     "cellMetadata": {},
     "inputWidgets": {},
     "nuid": "a20fb359-f29e-4632-ade1-19357bf2a37e",
     "showTitle": false,
     "title": ""
    }
   },
   "source": [
    "**Diccionario de datos**\n",
    "\n",
    " * `InvoiceNo`: número de factura\n",
    " * `StockCode`: código del producto\n",
    " * `Description`: nombre del producto\n",
    " * `Quantity`: cantidad comprada\n",
    " * `UnitPrice`: precio unitario del producto\n",
    " * `CustomerID`: código del cliente\n",
    " * `Country`: país donde se registró la compra"
   ]
  },
  {
   "cell_type": "markdown",
   "metadata": {
    "application/vnd.databricks.v1+cell": {
     "cellMetadata": {},
     "inputWidgets": {},
     "nuid": "a20fb359-f29e-4632-ade1-19357bf2a37e",
     "showTitle": false,
     "title": ""
    }
   },
   "source": [
    "# 3. Adquisición y filtrado de datos\n",
    "Durante la etapa de adquisición y filtrado de datos se recopilan los datos de todas las fuentes de datos que se identificaron durante la etapa Identificación de datos."
   ]
  },
  {
   "cell_type": "markdown",
   "metadata": {
    "application/vnd.databricks.v1+cell": {
     "cellMetadata": {},
     "inputWidgets": {},
     "nuid": "a20fb359-f29e-4632-ade1-19357bf2a37e",
     "showTitle": false,
     "title": ""
    }
   },
   "source": [
    "El conjunto de datos planteado contiene información más de 150.000 transacciones de compra. Todos los datos se han recogido a través de los registros de compra realizados por todos sus clientes dentro de la página web de la e-commerce."
   ]
  },
  {
   "cell_type": "markdown",
   "metadata": {
    "application/vnd.databricks.v1+cell": {
     "cellMetadata": {},
     "inputWidgets": {},
     "nuid": "689a6dbb-febb-46ff-ab8d-9742e93f266d",
     "showTitle": false,
     "title": ""
    }
   },
   "source": [
    "# 4. Extracción de datos\n",
    "Durante esta etapa se debe extraer datos dispares y transformarlos en un formato que pueda facilitar el análisis de datos. "
   ]
  },
  {
   "cell_type": "markdown",
   "metadata": {
    "application/vnd.databricks.v1+cell": {
     "cellMetadata": {},
     "inputWidgets": {},
     "nuid": "689a6dbb-febb-46ff-ab8d-9742e93f266d",
     "showTitle": false,
     "title": ""
    }
   },
   "source": [
    "**Importar librerías**\n",
    "```Python\n",
    "# Sintaxis general\n",
    "import modulo as alias\n",
    "- **modulo**: (módulo) librería a importar.\n",
    "- **alias**: alias con el nos referiremos a la libería. \n",
    "Ejemplo: \n",
    "  - Importamos la librería pandas:\n",
    "import pandas as pd\n",
    "```"
   ]
  },
  {
   "cell_type": "code",
   "execution_count": 117,
   "metadata": {},
   "outputs": [],
   "source": [
    "import pandas as pd"
   ]
  },
  {
   "cell_type": "markdown",
   "metadata": {
    "application/vnd.databricks.v1+cell": {
     "cellMetadata": {},
     "inputWidgets": {},
     "nuid": "ce755f55-0f62-4e21-ab5b-d1f25ba88e69",
     "showTitle": false,
     "title": ""
    }
   },
   "source": [
    "**Cargar el dataset**\n",
    "\n",
    "```Python\n",
    "Leemos un archivo usando el alias **pd**, luego punto **.**, y a seguir la función a utilizar **read_csv**.\n",
    "Ejemplo:\n",
    "df = pd.read_csv(\"data.csv\")\n",
    "```"
   ]
  },
  {
   "cell_type": "code",
   "execution_count": 118,
   "metadata": {},
   "outputs": [],
   "source": [
    "df = pd.read_csv(\"/media/henryx/alldata/Maestri/maestria2/big data negocios/semana 2/data.csv\", encoding= 'unicode_escape')"
   ]
  },
  {
   "cell_type": "markdown",
   "metadata": {
    "application/vnd.databricks.v1+cell": {
     "cellMetadata": {},
     "inputWidgets": {},
     "nuid": "dd690e8a-cdfb-4bb3-bb3e-21e6bf942d5d",
     "showTitle": false,
     "title": ""
    }
   },
   "source": []
  },
  {
   "cell_type": "markdown",
   "metadata": {
    "application/vnd.databricks.v1+cell": {
     "cellMetadata": {},
     "inputWidgets": {},
     "nuid": "a20fb359-f29e-4632-ade1-19357bf2a37e",
     "showTitle": false,
     "title": ""
    }
   },
   "source": [
    "# 5.Validación y limpieza de datos\n",
    "Los datos no válidos pueden sesgar y falsear los resultados de los análisis. La etapa de validación y depuración de datos se enfoca en establecer reglas de validación a menudo complejas y a eliminar cualquier dato no válido conocido."
   ]
  },
  {
   "cell_type": "markdown",
   "metadata": {
    "application/vnd.databricks.v1+cell": {
     "cellMetadata": {},
     "inputWidgets": {},
     "nuid": "870a6019-a0d6-4b63-9547-72930ce42883",
     "showTitle": false,
     "title": ""
    }
   },
   "source": [
    "**EDA - Análisis exploratorio de datos**"
   ]
  },
  {
   "cell_type": "code",
   "execution_count": 119,
   "metadata": {},
   "outputs": [
    {
     "data": {
      "text/html": [
       "<div>\n",
       "<style scoped>\n",
       "    .dataframe tbody tr th:only-of-type {\n",
       "        vertical-align: middle;\n",
       "    }\n",
       "\n",
       "    .dataframe tbody tr th {\n",
       "        vertical-align: top;\n",
       "    }\n",
       "\n",
       "    .dataframe thead th {\n",
       "        text-align: right;\n",
       "    }\n",
       "</style>\n",
       "<table border=\"1\" class=\"dataframe\">\n",
       "  <thead>\n",
       "    <tr style=\"text-align: right;\">\n",
       "      <th></th>\n",
       "      <th>Quantity</th>\n",
       "      <th>UnitPrice</th>\n",
       "      <th>CustomerID</th>\n",
       "    </tr>\n",
       "  </thead>\n",
       "  <tbody>\n",
       "    <tr>\n",
       "      <th>count</th>\n",
       "      <td>541909.000000</td>\n",
       "      <td>541909.000000</td>\n",
       "      <td>406829.000000</td>\n",
       "    </tr>\n",
       "    <tr>\n",
       "      <th>mean</th>\n",
       "      <td>9.552250</td>\n",
       "      <td>4.611114</td>\n",
       "      <td>15287.690570</td>\n",
       "    </tr>\n",
       "    <tr>\n",
       "      <th>std</th>\n",
       "      <td>218.081158</td>\n",
       "      <td>96.759853</td>\n",
       "      <td>1713.600303</td>\n",
       "    </tr>\n",
       "    <tr>\n",
       "      <th>min</th>\n",
       "      <td>-80995.000000</td>\n",
       "      <td>-11062.060000</td>\n",
       "      <td>12346.000000</td>\n",
       "    </tr>\n",
       "    <tr>\n",
       "      <th>25%</th>\n",
       "      <td>1.000000</td>\n",
       "      <td>1.250000</td>\n",
       "      <td>13953.000000</td>\n",
       "    </tr>\n",
       "    <tr>\n",
       "      <th>50%</th>\n",
       "      <td>3.000000</td>\n",
       "      <td>2.080000</td>\n",
       "      <td>15152.000000</td>\n",
       "    </tr>\n",
       "    <tr>\n",
       "      <th>75%</th>\n",
       "      <td>10.000000</td>\n",
       "      <td>4.130000</td>\n",
       "      <td>16791.000000</td>\n",
       "    </tr>\n",
       "    <tr>\n",
       "      <th>max</th>\n",
       "      <td>80995.000000</td>\n",
       "      <td>38970.000000</td>\n",
       "      <td>18287.000000</td>\n",
       "    </tr>\n",
       "  </tbody>\n",
       "</table>\n",
       "</div>"
      ],
      "text/plain": [
       "            Quantity      UnitPrice     CustomerID\n",
       "count  541909.000000  541909.000000  406829.000000\n",
       "mean        9.552250       4.611114   15287.690570\n",
       "std       218.081158      96.759853    1713.600303\n",
       "min    -80995.000000  -11062.060000   12346.000000\n",
       "25%         1.000000       1.250000   13953.000000\n",
       "50%         3.000000       2.080000   15152.000000\n",
       "75%        10.000000       4.130000   16791.000000\n",
       "max     80995.000000   38970.000000   18287.000000"
      ]
     },
     "execution_count": 119,
     "metadata": {},
     "output_type": "execute_result"
    }
   ],
   "source": [
    "df.describe()"
   ]
  },
  {
   "cell_type": "markdown",
   "metadata": {},
   "source": [
    "Podemos apreciar que existen valores ouliers, entonces vamos a limpiar "
   ]
  },
  {
   "cell_type": "code",
   "execution_count": 120,
   "metadata": {},
   "outputs": [
    {
     "name": "stdout",
     "output_type": "stream",
     "text": [
      "9.0\n",
      "2.9000000000000004\n"
     ]
    },
    {
     "data": {
      "text/plain": [
       "(450820, 8)"
      ]
     },
     "execution_count": 120,
     "metadata": {},
     "output_type": "execute_result"
    }
   ],
   "source": [
    "# Calculamos el Quartil 1 y Quartil 3 que son aquellos que nos permiten estimar los límites de los datos atípicos\n",
    "Q1 = df.Quantity.quantile(0.25)\n",
    "Q3 = df.Quantity.quantile(0.75)\n",
    "IQR = Q3 - Q1  #rango intercuartil\n",
    "print(IQR)\n",
    "# Ahora removemos aquellas observaciones que se encuentran por fuera del rango: 1.5 x IOR\n",
    "df = df[~((df['Quantity'] < (Q1 - 1.5 * IQR)) |(df['Quantity'] > (Q3 + 1.5 * IQR)))]\n",
    "df.shape\n",
    "\n",
    "\n",
    "\n",
    "Q1 = df.UnitPrice.quantile(0.25)\n",
    "Q3 = df.UnitPrice.quantile(0.75)\n",
    "IQR = Q3 - Q1  #rango intercuartil\n",
    "print(IQR)\n",
    "# Ahora removemos aquellas observaciones que se encuentran por fuera del rango: 1.5 x IOR\n",
    "df = df[~((df['UnitPrice'] < (Q1 - 1.5 * IQR)) |(df['UnitPrice'] > (Q3 + 1.5 * IQR)))]\n",
    "df.shape"
   ]
  },
  {
   "cell_type": "code",
   "execution_count": 121,
   "metadata": {},
   "outputs": [],
   "source": [
    "df=df[df['Quantity'] >0]"
   ]
  },
  {
   "cell_type": "code",
   "execution_count": 122,
   "metadata": {},
   "outputs": [
    {
     "data": {
      "text/plain": [
       "<AxesSubplot:>"
      ]
     },
     "execution_count": 122,
     "metadata": {},
     "output_type": "execute_result"
    },
    {
     "data": {
      "image/png": "[encoded data removed]",
      "text/plain": [
       "<Figure size 432x288 with 1 Axes>"
      ]
     },
     "metadata": {
      "needs_background": "light"
     },
     "output_type": "display_data"
    }
   ],
   "source": [
    "sns.boxplot(data= df[['Quantity','UnitPrice']] ) "
   ]
  },
  {
   "cell_type": "code",
   "execution_count": 123,
   "metadata": {
    "application/vnd.databricks.v1+cell": {
     "cellMetadata": {},
     "inputWidgets": {},
     "nuid": "afa6e0b5-e3b8-4a8d-b67d-f01055f25124",
     "showTitle": false,
     "title": ""
    }
   },
   "outputs": [
    {
     "data": {
      "text/plain": [
       "(443573, 8)"
      ]
     },
     "execution_count": 123,
     "metadata": {},
     "output_type": "execute_result"
    }
   ],
   "source": [
    "# Identificar el tamaño del dataset\n",
    "df.size\n",
    "df.shape\n",
    "# "
   ]
  },
  {
   "cell_type": "markdown",
   "metadata": {},
   "source": [
    "Existe un total de 541 909 registros y en total 8 campos."
   ]
  },
  {
   "cell_type": "code",
   "execution_count": 124,
   "metadata": {
    "application/vnd.databricks.v1+cell": {
     "cellMetadata": {},
     "inputWidgets": {},
     "nuid": "afa6e0b5-e3b8-4a8d-b67d-f01055f25124",
     "showTitle": false,
     "title": ""
    }
   },
   "outputs": [
    {
     "data": {
      "text/plain": [
       "(18475,)"
      ]
     },
     "execution_count": 124,
     "metadata": {},
     "output_type": "execute_result"
    }
   ],
   "source": [
    "# Indentificar el número de transacciones\n",
    "# df.groupby('InvoiceNo').value_counts()\n",
    "df['InvoiceNo'].value_counts().shape\n",
    "# Exite un total de 25 900 transaciones"
   ]
  },
  {
   "cell_type": "markdown",
   "metadata": {},
   "source": [
    "Existe un total de 25 900 transanciones.\n"
   ]
  },
  {
   "cell_type": "code",
   "execution_count": 125,
   "metadata": {
    "application/vnd.databricks.v1+cell": {
     "cellMetadata": {},
     "inputWidgets": {},
     "nuid": "afa6e0b5-e3b8-4a8d-b67d-f01055f25124",
     "showTitle": false,
     "title": ""
    }
   },
   "outputs": [
    {
     "data": {
      "text/plain": [
       "(3730,)"
      ]
     },
     "execution_count": 125,
     "metadata": {},
     "output_type": "execute_result"
    }
   ],
   "source": [
    "# Indentificar el número de productos\n",
    "df['StockCode'].value_counts().shape\n",
    "# Usando el codigo del producto existe un total de 4070 productos.\n"
   ]
  },
  {
   "cell_type": "code",
   "execution_count": null,
   "metadata": {},
   "outputs": [],
   "source": []
  },
  {
   "cell_type": "markdown",
   "metadata": {
    "application/vnd.databricks.v1+cell": {
     "cellMetadata": {},
     "inputWidgets": {},
     "nuid": "870a6019-a0d6-4b63-9547-72930ce42883",
     "showTitle": false,
     "title": ""
    }
   },
   "source": [
    "**Limpieza de datos**"
   ]
  },
  {
   "cell_type": "code",
   "execution_count": 126,
   "metadata": {
    "application/vnd.databricks.v1+cell": {
     "cellMetadata": {},
     "inputWidgets": {},
     "nuid": "afa6e0b5-e3b8-4a8d-b67d-f01055f25124",
     "showTitle": false,
     "title": ""
    }
   },
   "outputs": [
    {
     "name": "stdout",
     "output_type": "stream",
     "text": [
      "InvoiceNo           0\n",
      "StockCode           0\n",
      "Description       430\n",
      "Quantity            0\n",
      "InvoiceDate         0\n",
      "UnitPrice           0\n",
      "CustomerID     117105\n",
      "Country             0\n",
      "dtype: int64\n"
     ]
    },
    {
     "data": {
      "text/plain": [
       "<AxesSubplot:>"
      ]
     },
     "execution_count": 126,
     "metadata": {},
     "output_type": "execute_result"
    },
    {
     "data": {
      "image/png": "[encoded data removed]",
      "text/plain": [
       "<Figure size 432x288 with 1 Axes>"
      ]
     },
     "metadata": {
      "needs_background": "light"
     },
     "output_type": "display_data"
    }
   ],
   "source": [
    "# Identificar si existen datos perdidos (NA, Nulls, etc.)\n",
    "print(df.isnull().sum())\n",
    "\n",
    "# \n",
    "import seaborn as sns\n",
    "sns.heatmap(df.isnull(), cbar=False)"
   ]
  },
  {
   "cell_type": "markdown",
   "metadata": {},
   "source": [
    "Si existen datos perdidos, a perar de tener codigo el stock no tienen el nombre del producto. Eliminamos auquellos.\n"
   ]
  },
  {
   "cell_type": "code",
   "execution_count": 127,
   "metadata": {
    "application/vnd.databricks.v1+cell": {
     "cellMetadata": {},
     "inputWidgets": {},
     "nuid": "afa6e0b5-e3b8-4a8d-b67d-f01055f25124",
     "showTitle": false,
     "title": ""
    }
   },
   "outputs": [],
   "source": [
    "# Eliminar datos perdidos (NA, Nulls, etc.)\n",
    "df = df.dropna(subset=['Description'])\n",
    "df = df.dropna(subset=['CustomerID'])"
   ]
  },
  {
   "cell_type": "markdown",
   "metadata": {},
   "source": []
  },
  {
   "cell_type": "markdown",
   "metadata": {
    "application/vnd.databricks.v1+cell": {
     "cellMetadata": {},
     "inputWidgets": {},
     "nuid": "870a6019-a0d6-4b63-9547-72930ce42883",
     "showTitle": false,
     "title": ""
    }
   },
   "source": [
    "**Transformación de datos**"
   ]
  },
  {
   "cell_type": "code",
   "execution_count": 128,
   "metadata": {
    "application/vnd.databricks.v1+cell": {
     "cellMetadata": {},
     "inputWidgets": {},
     "nuid": "afa6e0b5-e3b8-4a8d-b67d-f01055f25124",
     "showTitle": false,
     "title": ""
    }
   },
   "outputs": [
    {
     "data": {
      "text/html": [
       "<div>\n",
       "<style scoped>\n",
       "    .dataframe tbody tr th:only-of-type {\n",
       "        vertical-align: middle;\n",
       "    }\n",
       "\n",
       "    .dataframe tbody tr th {\n",
       "        vertical-align: top;\n",
       "    }\n",
       "\n",
       "    .dataframe thead th {\n",
       "        text-align: right;\n",
       "    }\n",
       "</style>\n",
       "<table border=\"1\" class=\"dataframe\">\n",
       "  <thead>\n",
       "    <tr style=\"text-align: right;\">\n",
       "      <th></th>\n",
       "      <th>InvoiceNo</th>\n",
       "      <th>StockCode</th>\n",
       "      <th>Description</th>\n",
       "      <th>Quantity</th>\n",
       "      <th>InvoiceDate</th>\n",
       "      <th>UnitPrice</th>\n",
       "      <th>CustomerID</th>\n",
       "      <th>Country</th>\n",
       "      <th>total_val</th>\n",
       "    </tr>\n",
       "  </thead>\n",
       "  <tbody>\n",
       "    <tr>\n",
       "      <th>0</th>\n",
       "      <td>536365</td>\n",
       "      <td>85123A</td>\n",
       "      <td>WHITE HANGING HEART T-LIGHT HOLDER</td>\n",
       "      <td>6</td>\n",
       "      <td>12/1/2010 8:26</td>\n",
       "      <td>2.55</td>\n",
       "      <td>17850.0</td>\n",
       "      <td>United Kingdom</td>\n",
       "      <td>15.30</td>\n",
       "    </tr>\n",
       "    <tr>\n",
       "      <th>1</th>\n",
       "      <td>536365</td>\n",
       "      <td>71053</td>\n",
       "      <td>WHITE METAL LANTERN</td>\n",
       "      <td>6</td>\n",
       "      <td>12/1/2010 8:26</td>\n",
       "      <td>3.39</td>\n",
       "      <td>17850.0</td>\n",
       "      <td>United Kingdom</td>\n",
       "      <td>20.34</td>\n",
       "    </tr>\n",
       "    <tr>\n",
       "      <th>2</th>\n",
       "      <td>536365</td>\n",
       "      <td>84406B</td>\n",
       "      <td>CREAM CUPID HEARTS COAT HANGER</td>\n",
       "      <td>8</td>\n",
       "      <td>12/1/2010 8:26</td>\n",
       "      <td>2.75</td>\n",
       "      <td>17850.0</td>\n",
       "      <td>United Kingdom</td>\n",
       "      <td>22.00</td>\n",
       "    </tr>\n",
       "    <tr>\n",
       "      <th>3</th>\n",
       "      <td>536365</td>\n",
       "      <td>84029G</td>\n",
       "      <td>KNITTED UNION FLAG HOT WATER BOTTLE</td>\n",
       "      <td>6</td>\n",
       "      <td>12/1/2010 8:26</td>\n",
       "      <td>3.39</td>\n",
       "      <td>17850.0</td>\n",
       "      <td>United Kingdom</td>\n",
       "      <td>20.34</td>\n",
       "    </tr>\n",
       "    <tr>\n",
       "      <th>4</th>\n",
       "      <td>536365</td>\n",
       "      <td>84029E</td>\n",
       "      <td>RED WOOLLY HOTTIE WHITE HEART.</td>\n",
       "      <td>6</td>\n",
       "      <td>12/1/2010 8:26</td>\n",
       "      <td>3.39</td>\n",
       "      <td>17850.0</td>\n",
       "      <td>United Kingdom</td>\n",
       "      <td>20.34</td>\n",
       "    </tr>\n",
       "    <tr>\n",
       "      <th>...</th>\n",
       "      <td>...</td>\n",
       "      <td>...</td>\n",
       "      <td>...</td>\n",
       "      <td>...</td>\n",
       "      <td>...</td>\n",
       "      <td>...</td>\n",
       "      <td>...</td>\n",
       "      <td>...</td>\n",
       "      <td>...</td>\n",
       "    </tr>\n",
       "    <tr>\n",
       "      <th>541904</th>\n",
       "      <td>581587</td>\n",
       "      <td>22613</td>\n",
       "      <td>PACK OF 20 SPACEBOY NAPKINS</td>\n",
       "      <td>12</td>\n",
       "      <td>12/9/2011 12:50</td>\n",
       "      <td>0.85</td>\n",
       "      <td>12680.0</td>\n",
       "      <td>France</td>\n",
       "      <td>10.20</td>\n",
       "    </tr>\n",
       "    <tr>\n",
       "      <th>541905</th>\n",
       "      <td>581587</td>\n",
       "      <td>22899</td>\n",
       "      <td>CHILDREN'S APRON DOLLY GIRL</td>\n",
       "      <td>6</td>\n",
       "      <td>12/9/2011 12:50</td>\n",
       "      <td>2.10</td>\n",
       "      <td>12680.0</td>\n",
       "      <td>France</td>\n",
       "      <td>12.60</td>\n",
       "    </tr>\n",
       "    <tr>\n",
       "      <th>541906</th>\n",
       "      <td>581587</td>\n",
       "      <td>23254</td>\n",
       "      <td>CHILDRENS CUTLERY DOLLY GIRL</td>\n",
       "      <td>4</td>\n",
       "      <td>12/9/2011 12:50</td>\n",
       "      <td>4.15</td>\n",
       "      <td>12680.0</td>\n",
       "      <td>France</td>\n",
       "      <td>16.60</td>\n",
       "    </tr>\n",
       "    <tr>\n",
       "      <th>541907</th>\n",
       "      <td>581587</td>\n",
       "      <td>23255</td>\n",
       "      <td>CHILDRENS CUTLERY CIRCUS PARADE</td>\n",
       "      <td>4</td>\n",
       "      <td>12/9/2011 12:50</td>\n",
       "      <td>4.15</td>\n",
       "      <td>12680.0</td>\n",
       "      <td>France</td>\n",
       "      <td>16.60</td>\n",
       "    </tr>\n",
       "    <tr>\n",
       "      <th>541908</th>\n",
       "      <td>581587</td>\n",
       "      <td>22138</td>\n",
       "      <td>BAKING SET 9 PIECE RETROSPOT</td>\n",
       "      <td>3</td>\n",
       "      <td>12/9/2011 12:50</td>\n",
       "      <td>4.95</td>\n",
       "      <td>12680.0</td>\n",
       "      <td>France</td>\n",
       "      <td>14.85</td>\n",
       "    </tr>\n",
       "  </tbody>\n",
       "</table>\n",
       "<p>326468 rows × 9 columns</p>\n",
       "</div>"
      ],
      "text/plain": [
       "       InvoiceNo StockCode                          Description  Quantity  \\\n",
       "0         536365    85123A   WHITE HANGING HEART T-LIGHT HOLDER         6   \n",
       "1         536365     71053                  WHITE METAL LANTERN         6   \n",
       "2         536365    84406B       CREAM CUPID HEARTS COAT HANGER         8   \n",
       "3         536365    84029G  KNITTED UNION FLAG HOT WATER BOTTLE         6   \n",
       "4         536365    84029E       RED WOOLLY HOTTIE WHITE HEART.         6   \n",
       "...          ...       ...                                  ...       ...   \n",
       "541904    581587     22613          PACK OF 20 SPACEBOY NAPKINS        12   \n",
       "541905    581587     22899         CHILDREN'S APRON DOLLY GIRL          6   \n",
       "541906    581587     23254        CHILDRENS CUTLERY DOLLY GIRL          4   \n",
       "541907    581587     23255      CHILDRENS CUTLERY CIRCUS PARADE         4   \n",
       "541908    581587     22138        BAKING SET 9 PIECE RETROSPOT          3   \n",
       "\n",
       "            InvoiceDate  UnitPrice  CustomerID         Country  total_val  \n",
       "0        12/1/2010 8:26       2.55     17850.0  United Kingdom      15.30  \n",
       "1        12/1/2010 8:26       3.39     17850.0  United Kingdom      20.34  \n",
       "2        12/1/2010 8:26       2.75     17850.0  United Kingdom      22.00  \n",
       "3        12/1/2010 8:26       3.39     17850.0  United Kingdom      20.34  \n",
       "4        12/1/2010 8:26       3.39     17850.0  United Kingdom      20.34  \n",
       "...                 ...        ...         ...             ...        ...  \n",
       "541904  12/9/2011 12:50       0.85     12680.0          France      10.20  \n",
       "541905  12/9/2011 12:50       2.10     12680.0          France      12.60  \n",
       "541906  12/9/2011 12:50       4.15     12680.0          France      16.60  \n",
       "541907  12/9/2011 12:50       4.15     12680.0          France      16.60  \n",
       "541908  12/9/2011 12:50       4.95     12680.0          France      14.85  \n",
       "\n",
       "[326468 rows x 9 columns]"
      ]
     },
     "execution_count": 128,
     "metadata": {},
     "output_type": "execute_result"
    }
   ],
   "source": [
    "# Calcular el valor total (cantidad * precio unitario)\n",
    "df['total_val'] = df['UnitPrice'] * df['Quantity']\n",
    "df\n"
   ]
  },
  {
   "cell_type": "code",
   "execution_count": 129,
   "metadata": {
    "application/vnd.databricks.v1+cell": {
     "cellMetadata": {},
     "inputWidgets": {},
     "nuid": "afa6e0b5-e3b8-4a8d-b67d-f01055f25124",
     "showTitle": false,
     "title": ""
    }
   },
   "outputs": [
    {
     "name": "stderr",
     "output_type": "stream",
     "text": [
      "/tmp/ipykernel_6568/1533201247.py:2: FutureWarning: ['StockCode', 'Description', 'InvoiceDate', 'Country'] did not aggregate successfully. If any error is raised this will raise in a future version of pandas. Drop these columns/ops to avoid this warning.\n",
      "  df.groupby('CustomerID').agg(['sum', 'mean', 'count'])\n"
     ]
    },
    {
     "data": {
      "text/html": [
       "<div>\n",
       "<style scoped>\n",
       "    .dataframe tbody tr th:only-of-type {\n",
       "        vertical-align: middle;\n",
       "    }\n",
       "\n",
       "    .dataframe tbody tr th {\n",
       "        vertical-align: top;\n",
       "    }\n",
       "\n",
       "    .dataframe thead tr th {\n",
       "        text-align: left;\n",
       "    }\n",
       "\n",
       "    .dataframe thead tr:last-of-type th {\n",
       "        text-align: right;\n",
       "    }\n",
       "</style>\n",
       "<table border=\"1\" class=\"dataframe\">\n",
       "  <thead>\n",
       "    <tr>\n",
       "      <th></th>\n",
       "      <th colspan=\"3\" halign=\"left\">InvoiceNo</th>\n",
       "      <th colspan=\"3\" halign=\"left\">Quantity</th>\n",
       "      <th colspan=\"3\" halign=\"left\">UnitPrice</th>\n",
       "      <th colspan=\"3\" halign=\"left\">total_val</th>\n",
       "    </tr>\n",
       "    <tr>\n",
       "      <th></th>\n",
       "      <th>sum</th>\n",
       "      <th>mean</th>\n",
       "      <th>count</th>\n",
       "      <th>sum</th>\n",
       "      <th>mean</th>\n",
       "      <th>count</th>\n",
       "      <th>sum</th>\n",
       "      <th>mean</th>\n",
       "      <th>count</th>\n",
       "      <th>sum</th>\n",
       "      <th>mean</th>\n",
       "      <th>count</th>\n",
       "    </tr>\n",
       "    <tr>\n",
       "      <th>CustomerID</th>\n",
       "      <th></th>\n",
       "      <th></th>\n",
       "      <th></th>\n",
       "      <th></th>\n",
       "      <th></th>\n",
       "      <th></th>\n",
       "      <th></th>\n",
       "      <th></th>\n",
       "      <th></th>\n",
       "      <th></th>\n",
       "      <th></th>\n",
       "      <th></th>\n",
       "    </tr>\n",
       "  </thead>\n",
       "  <tbody>\n",
       "    <tr>\n",
       "      <th>12347.0</th>\n",
       "      <td>5376265376265376265376265376265376265376265376...</td>\n",
       "      <td>inf</td>\n",
       "      <td>141</td>\n",
       "      <td>1281</td>\n",
       "      <td>9.085106</td>\n",
       "      <td>141</td>\n",
       "      <td>375.34</td>\n",
       "      <td>2.661986</td>\n",
       "      <td>141</td>\n",
       "      <td>2866.77</td>\n",
       "      <td>20.331702</td>\n",
       "      <td>141</td>\n",
       "    </tr>\n",
       "    <tr>\n",
       "      <th>12348.0</th>\n",
       "      <td>548955</td>\n",
       "      <td>5.489550e+05</td>\n",
       "      <td>1</td>\n",
       "      <td>20</td>\n",
       "      <td>20.000000</td>\n",
       "      <td>1</td>\n",
       "      <td>0.85</td>\n",
       "      <td>0.850000</td>\n",
       "      <td>1</td>\n",
       "      <td>17.00</td>\n",
       "      <td>17.000000</td>\n",
       "      <td>1</td>\n",
       "    </tr>\n",
       "    <tr>\n",
       "      <th>12349.0</th>\n",
       "      <td>5776095776095776095776095776095776095776095776...</td>\n",
       "      <td>inf</td>\n",
       "      <td>61</td>\n",
       "      <td>473</td>\n",
       "      <td>7.754098</td>\n",
       "      <td>61</td>\n",
       "      <td>199.06</td>\n",
       "      <td>3.263279</td>\n",
       "      <td>61</td>\n",
       "      <td>1155.75</td>\n",
       "      <td>18.946721</td>\n",
       "      <td>61</td>\n",
       "    </tr>\n",
       "    <tr>\n",
       "      <th>12350.0</th>\n",
       "      <td>5430375430375430375430375430375430375430375430...</td>\n",
       "      <td>3.620250e+88</td>\n",
       "      <td>15</td>\n",
       "      <td>172</td>\n",
       "      <td>11.466667</td>\n",
       "      <td>15</td>\n",
       "      <td>24.45</td>\n",
       "      <td>1.630000</td>\n",
       "      <td>15</td>\n",
       "      <td>274.00</td>\n",
       "      <td>18.266667</td>\n",
       "      <td>15</td>\n",
       "    </tr>\n",
       "    <tr>\n",
       "      <th>12352.0</th>\n",
       "      <td>5441565441565441565441565441565441565441565441...</td>\n",
       "      <td>inf</td>\n",
       "      <td>71</td>\n",
       "      <td>512</td>\n",
       "      <td>7.211268</td>\n",
       "      <td>71</td>\n",
       "      <td>248.51</td>\n",
       "      <td>3.500141</td>\n",
       "      <td>71</td>\n",
       "      <td>1232.44</td>\n",
       "      <td>17.358310</td>\n",
       "      <td>71</td>\n",
       "    </tr>\n",
       "    <tr>\n",
       "      <th>...</th>\n",
       "      <td>...</td>\n",
       "      <td>...</td>\n",
       "      <td>...</td>\n",
       "      <td>...</td>\n",
       "      <td>...</td>\n",
       "      <td>...</td>\n",
       "      <td>...</td>\n",
       "      <td>...</td>\n",
       "      <td>...</td>\n",
       "      <td>...</td>\n",
       "      <td>...</td>\n",
       "      <td>...</td>\n",
       "    </tr>\n",
       "    <tr>\n",
       "      <th>18280.0</th>\n",
       "      <td>5457125457125457125457125457125457125457125457...</td>\n",
       "      <td>6.063473e+52</td>\n",
       "      <td>9</td>\n",
       "      <td>43</td>\n",
       "      <td>4.777778</td>\n",
       "      <td>9</td>\n",
       "      <td>37.70</td>\n",
       "      <td>4.188889</td>\n",
       "      <td>9</td>\n",
       "      <td>160.70</td>\n",
       "      <td>17.855556</td>\n",
       "      <td>9</td>\n",
       "    </tr>\n",
       "    <tr>\n",
       "      <th>18281.0</th>\n",
       "      <td>556464556464556464556464556464</td>\n",
       "      <td>1.112929e+29</td>\n",
       "      <td>5</td>\n",
       "      <td>52</td>\n",
       "      <td>10.400000</td>\n",
       "      <td>5</td>\n",
       "      <td>5.46</td>\n",
       "      <td>1.092000</td>\n",
       "      <td>5</td>\n",
       "      <td>46.92</td>\n",
       "      <td>9.384000</td>\n",
       "      <td>5</td>\n",
       "    </tr>\n",
       "    <tr>\n",
       "      <th>18282.0</th>\n",
       "      <td>562525562525562525562525580173580173580173580173</td>\n",
       "      <td>7.031570e+46</td>\n",
       "      <td>8</td>\n",
       "      <td>51</td>\n",
       "      <td>6.375000</td>\n",
       "      <td>8</td>\n",
       "      <td>23.85</td>\n",
       "      <td>2.981250</td>\n",
       "      <td>8</td>\n",
       "      <td>113.13</td>\n",
       "      <td>14.141250</td>\n",
       "      <td>8</td>\n",
       "    </tr>\n",
       "    <tr>\n",
       "      <th>18283.0</th>\n",
       "      <td>5403505403505403505403505403505403505403505403...</td>\n",
       "      <td>inf</td>\n",
       "      <td>754</td>\n",
       "      <td>1395</td>\n",
       "      <td>1.850133</td>\n",
       "      <td>754</td>\n",
       "      <td>1195.03</td>\n",
       "      <td>1.584920</td>\n",
       "      <td>754</td>\n",
       "      <td>2068.98</td>\n",
       "      <td>2.744005</td>\n",
       "      <td>754</td>\n",
       "    </tr>\n",
       "    <tr>\n",
       "      <th>18287.0</th>\n",
       "      <td>5540655540655540655540655540655540655540655540...</td>\n",
       "      <td>1.678987e+196</td>\n",
       "      <td>33</td>\n",
       "      <td>350</td>\n",
       "      <td>10.606061</td>\n",
       "      <td>33</td>\n",
       "      <td>68.72</td>\n",
       "      <td>2.082424</td>\n",
       "      <td>33</td>\n",
       "      <td>605.48</td>\n",
       "      <td>18.347879</td>\n",
       "      <td>33</td>\n",
       "    </tr>\n",
       "  </tbody>\n",
       "</table>\n",
       "<p>4171 rows × 12 columns</p>\n",
       "</div>"
      ],
      "text/plain": [
       "                                                    InvoiceNo                 \\\n",
       "                                                          sum           mean   \n",
       "CustomerID                                                                     \n",
       "12347.0     5376265376265376265376265376265376265376265376...            inf   \n",
       "12348.0                                                548955   5.489550e+05   \n",
       "12349.0     5776095776095776095776095776095776095776095776...            inf   \n",
       "12350.0     5430375430375430375430375430375430375430375430...   3.620250e+88   \n",
       "12352.0     5441565441565441565441565441565441565441565441...            inf   \n",
       "...                                                       ...            ...   \n",
       "18280.0     5457125457125457125457125457125457125457125457...   6.063473e+52   \n",
       "18281.0                        556464556464556464556464556464   1.112929e+29   \n",
       "18282.0      562525562525562525562525580173580173580173580173   7.031570e+46   \n",
       "18283.0     5403505403505403505403505403505403505403505403...            inf   \n",
       "18287.0     5540655540655540655540655540655540655540655540...  1.678987e+196   \n",
       "\n",
       "                 Quantity                  UnitPrice                  \\\n",
       "           count      sum       mean count       sum      mean count   \n",
       "CustomerID                                                             \n",
       "12347.0      141     1281   9.085106   141    375.34  2.661986   141   \n",
       "12348.0        1       20  20.000000     1      0.85  0.850000     1   \n",
       "12349.0       61      473   7.754098    61    199.06  3.263279    61   \n",
       "12350.0       15      172  11.466667    15     24.45  1.630000    15   \n",
       "12352.0       71      512   7.211268    71    248.51  3.500141    71   \n",
       "...          ...      ...        ...   ...       ...       ...   ...   \n",
       "18280.0        9       43   4.777778     9     37.70  4.188889     9   \n",
       "18281.0        5       52  10.400000     5      5.46  1.092000     5   \n",
       "18282.0        8       51   6.375000     8     23.85  2.981250     8   \n",
       "18283.0      754     1395   1.850133   754   1195.03  1.584920   754   \n",
       "18287.0       33      350  10.606061    33     68.72  2.082424    33   \n",
       "\n",
       "           total_val                   \n",
       "                 sum       mean count  \n",
       "CustomerID                             \n",
       "12347.0      2866.77  20.331702   141  \n",
       "12348.0        17.00  17.000000     1  \n",
       "12349.0      1155.75  18.946721    61  \n",
       "12350.0       274.00  18.266667    15  \n",
       "12352.0      1232.44  17.358310    71  \n",
       "...              ...        ...   ...  \n",
       "18280.0       160.70  17.855556     9  \n",
       "18281.0        46.92   9.384000     5  \n",
       "18282.0       113.13  14.141250     8  \n",
       "18283.0      2068.98   2.744005   754  \n",
       "18287.0       605.48  18.347879    33  \n",
       "\n",
       "[4171 rows x 12 columns]"
      ]
     },
     "execution_count": 129,
     "metadata": {},
     "output_type": "execute_result"
    }
   ],
   "source": [
    "# Calcular el promedio y la suma del gasto total por cliente y el número de compras realizadas (agrupar por cliente)\n",
    "df.groupby('CustomerID').agg(['sum', 'mean', 'count'])\n"
   ]
  },
  {
   "cell_type": "markdown",
   "metadata": {},
   "source": []
  },
  {
   "cell_type": "markdown",
   "metadata": {
    "application/vnd.databricks.v1+cell": {
     "cellMetadata": {},
     "inputWidgets": {},
     "nuid": "5ab95bea-937b-410e-94f1-5b68096b9f42",
     "showTitle": false,
     "title": ""
    }
   },
   "source": [
    "# 6. Agregación y representación de datos\n",
    "La etapa de agregación y representación de datos, se dedica a integrar múltiples conjuntos de datos para obtener una visión unificada."
   ]
  },
  {
   "cell_type": "code",
   "execution_count": 130,
   "metadata": {},
   "outputs": [],
   "source": [
    "# Evaluar si se requiere integrar otros datos para el análisis. \n"
   ]
  },
  {
   "cell_type": "markdown",
   "metadata": {},
   "source": [
    "Como los objetivos del estudio es segmentar a los clientes entonces no existe la necesidad de incorporar nuevos campos."
   ]
  },
  {
   "cell_type": "markdown",
   "metadata": {
    "application/vnd.databricks.v1+cell": {
     "cellMetadata": {},
     "inputWidgets": {},
     "nuid": "5ab95bea-937b-410e-94f1-5b68096b9f42",
     "showTitle": false,
     "title": ""
    }
   },
   "source": [
    "# 7. Análisis de datos\n",
    "La etapa de análisis de datos se enfoca en llevar a cabo la tarea de análisis propiamente dicha, que suele implicar uno o más tipos de análisis"
   ]
  },
  {
   "cell_type": "markdown",
   "metadata": {},
   "source": [
    "## Implementación modelo K-means"
   ]
  },
  {
   "cell_type": "markdown",
   "metadata": {},
   "source": [
    "En esta sección se debe aplicar métodos de Clustering que te permitan definir el número adecuado de grupos en los que se va a dividir los datos. Se solicita usar el **método del codo** (elbow method) y el método **análisis de la silueta**.\n",
    "\n",
    "⚠️ **Consideraciones:** Tomar en cuenta que una mala elección del número de Clusters podría generar pocos Clusters con datos muy heterogéneos o muchos Clusters con datos muy similares."
   ]
  },
  {
   "cell_type": "markdown",
   "metadata": {},
   "source": [
    "**Método del codo (Elbow Method)**"
   ]
  },
  {
   "cell_type": "code",
   "execution_count": 131,
   "metadata": {},
   "outputs": [
    {
     "data": {
      "text/plain": [
       "(326468, 9)"
      ]
     },
     "execution_count": 131,
     "metadata": {},
     "output_type": "execute_result"
    }
   ],
   "source": [
    "df1 = df[['Quantity','UnitPrice','total_val']]\n",
    "int('4')\n",
    "df.shape"
   ]
  },
  {
   "cell_type": "code",
   "execution_count": 132,
   "metadata": {},
   "outputs": [
    {
     "name": "stdout",
     "output_type": "stream",
     "text": [
      "<class 'pandas.core.frame.DataFrame'>\n",
      "Int64Index: 326468 entries, 0 to 541908\n",
      "Data columns (total 3 columns):\n",
      " #   Column     Non-Null Count   Dtype  \n",
      "---  ------     --------------   -----  \n",
      " 0   Quantity   326468 non-null  int64  \n",
      " 1   UnitPrice  326468 non-null  float64\n",
      " 2   total_val  326468 non-null  float64\n",
      "dtypes: float64(2), int64(1)\n",
      "memory usage: 10.0 MB\n"
     ]
    }
   ],
   "source": [
    "df1.info()\n",
    "def tryint(a):\n",
    "    if a.isnumeric():\n",
    "       return True\n",
    "    else:\n",
    "        return False\n",
    "    \n"
   ]
  },
  {
   "cell_type": "code",
   "execution_count": null,
   "metadata": {},
   "outputs": [],
   "source": []
  },
  {
   "cell_type": "code",
   "execution_count": 133,
   "metadata": {},
   "outputs": [
    {
     "data": {
      "image/png": "[encoded data removed]",
      "text/plain": [
       "<Figure size 1152x432 with 1 Axes>"
      ]
     },
     "metadata": {
      "needs_background": "light"
     },
     "output_type": "display_data"
    }
   ],
   "source": [
    "# Aplicar el método del codo\n",
    "from sklearn.cluster import KMeans\n",
    "import numpy as np\n",
    "import matplotlib.pyplot as plt\n",
    "\n",
    "wcss = []\n",
    "for i in range(2, 15):\n",
    "    kmeans = KMeans(n_clusters   = i, \n",
    "                    init         = 'k-means++', \n",
    "                    max_iter     = 300, \n",
    "                    n_init       = 10, \n",
    "                    random_state = 42)\n",
    "    kmeans.fit(df1)\n",
    "    wcss.append(kmeans.inertia_)\n",
    "    \n",
    "numero_clusteres = list(enumerate(wcss, start = 1))\n",
    "metrica_wcss = np.array(numero_clusteres)\n",
    "df_wcss= pd.DataFrame(data = metrica_wcss, columns = ['NUM_CLUSTERS','ERROR'], index = range(2, 15))\n",
    "\n",
    "plt.figure(figsize=(16,6))\n",
    "plt.plot(df_wcss.NUM_CLUSTERS, df_wcss.ERROR, marker = \"o\" );"
   ]
  },
  {
   "cell_type": "markdown",
   "metadata": {},
   "source": [
    "Aplicando el metodo del codo notamos que la inercia del grupo disminuye a medida que aumentamos el número de grupos. Además, la caída de la inercia es mínima después de K = 3, por lo que 3 puede considerarse como el número óptimo de grupos."
   ]
  },
  {
   "cell_type": "markdown",
   "metadata": {},
   "source": [
    "**Método de la silueta**"
   ]
  },
  {
   "cell_type": "code",
   "execution_count": 134,
   "metadata": {},
   "outputs": [
    {
     "ename": "KeyboardInterrupt",
     "evalue": "",
     "output_type": "error",
     "traceback": [
      "\u001b[0;31m---------------------------------------------------------------------------\u001b[0m",
      "\u001b[0;31mKeyboardInterrupt\u001b[0m                         Traceback (most recent call last)",
      "\u001b[1;32m/media/henryx/alldata/Maestri/maestria2/big data negocios/semana 2/Tarea – Clustering.ipynb Cell 53'\u001b[0m in \u001b[0;36m<cell line: 6>\u001b[0;34m()\u001b[0m\n\u001b[1;32m      <a href='vscode-notebook-cell:/media/henryx/alldata/Maestri/maestria2/big%20data%20negocios/semana%202/Tarea%20%E2%80%93%20Clustering.ipynb#ch0000046?line=6'>7</a>\u001b[0m     kmeans \u001b[39m=\u001b[39m KMeans(n_clusters   \u001b[39m=\u001b[39m i, \n\u001b[1;32m      <a href='vscode-notebook-cell:/media/henryx/alldata/Maestri/maestria2/big%20data%20negocios/semana%202/Tarea%20%E2%80%93%20Clustering.ipynb#ch0000046?line=7'>8</a>\u001b[0m                     init         \u001b[39m=\u001b[39m \u001b[39m'\u001b[39m\u001b[39mk-means++\u001b[39m\u001b[39m'\u001b[39m, \n\u001b[1;32m      <a href='vscode-notebook-cell:/media/henryx/alldata/Maestri/maestria2/big%20data%20negocios/semana%202/Tarea%20%E2%80%93%20Clustering.ipynb#ch0000046?line=8'>9</a>\u001b[0m                     max_iter     \u001b[39m=\u001b[39m \u001b[39m300\u001b[39m, \n\u001b[1;32m     <a href='vscode-notebook-cell:/media/henryx/alldata/Maestri/maestria2/big%20data%20negocios/semana%202/Tarea%20%E2%80%93%20Clustering.ipynb#ch0000046?line=9'>10</a>\u001b[0m                     n_init       \u001b[39m=\u001b[39m \u001b[39m10\u001b[39m, \n\u001b[1;32m     <a href='vscode-notebook-cell:/media/henryx/alldata/Maestri/maestria2/big%20data%20negocios/semana%202/Tarea%20%E2%80%93%20Clustering.ipynb#ch0000046?line=10'>11</a>\u001b[0m                     random_state \u001b[39m=\u001b[39m \u001b[39m42\u001b[39m)\n\u001b[1;32m     <a href='vscode-notebook-cell:/media/henryx/alldata/Maestri/maestria2/big%20data%20negocios/semana%202/Tarea%20%E2%80%93%20Clustering.ipynb#ch0000046?line=11'>12</a>\u001b[0m     cluster_labels \u001b[39m=\u001b[39m kmeans\u001b[39m.\u001b[39mfit_predict(df1)\n\u001b[0;32m---> <a href='vscode-notebook-cell:/media/henryx/alldata/Maestri/maestria2/big%20data%20negocios/semana%202/Tarea%20%E2%80%93%20Clustering.ipynb#ch0000046?line=12'>13</a>\u001b[0m     silhouette_avg \u001b[39m=\u001b[39m silhouette_score(df1, cluster_labels)\n\u001b[1;32m     <a href='vscode-notebook-cell:/media/henryx/alldata/Maestri/maestria2/big%20data%20negocios/semana%202/Tarea%20%E2%80%93%20Clustering.ipynb#ch0000046?line=13'>14</a>\u001b[0m     valores_medios_silhouette\u001b[39m.\u001b[39mappend(silhouette_avg)\n\u001b[1;32m     <a href='vscode-notebook-cell:/media/henryx/alldata/Maestri/maestria2/big%20data%20negocios/semana%202/Tarea%20%E2%80%93%20Clustering.ipynb#ch0000046?line=15'>16</a>\u001b[0m fig, ax \u001b[39m=\u001b[39m plt\u001b[39m.\u001b[39msubplots(\u001b[39m1\u001b[39m, \u001b[39m1\u001b[39m, figsize\u001b[39m=\u001b[39m(\u001b[39m6\u001b[39m, \u001b[39m3.84\u001b[39m))\n",
      "File \u001b[0;32m~/anaconda3/lib/python3.9/site-packages/sklearn/metrics/cluster/_unsupervised.py:117\u001b[0m, in \u001b[0;36msilhouette_score\u001b[0;34m(X, labels, metric, sample_size, random_state, **kwds)\u001b[0m\n\u001b[1;32m    <a href='file:///home/henryx/anaconda3/lib/python3.9/site-packages/sklearn/metrics/cluster/_unsupervised.py?line=114'>115</a>\u001b[0m     \u001b[39melse\u001b[39;00m:\n\u001b[1;32m    <a href='file:///home/henryx/anaconda3/lib/python3.9/site-packages/sklearn/metrics/cluster/_unsupervised.py?line=115'>116</a>\u001b[0m         X, labels \u001b[39m=\u001b[39m X[indices], labels[indices]\n\u001b[0;32m--> <a href='file:///home/henryx/anaconda3/lib/python3.9/site-packages/sklearn/metrics/cluster/_unsupervised.py?line=116'>117</a>\u001b[0m \u001b[39mreturn\u001b[39;00m np\u001b[39m.\u001b[39mmean(silhouette_samples(X, labels, metric\u001b[39m=\u001b[39;49mmetric, \u001b[39m*\u001b[39;49m\u001b[39m*\u001b[39;49mkwds))\n",
      "File \u001b[0;32m~/anaconda3/lib/python3.9/site-packages/sklearn/metrics/cluster/_unsupervised.py:233\u001b[0m, in \u001b[0;36msilhouette_samples\u001b[0;34m(X, labels, metric, **kwds)\u001b[0m\n\u001b[1;32m    <a href='file:///home/henryx/anaconda3/lib/python3.9/site-packages/sklearn/metrics/cluster/_unsupervised.py?line=228'>229</a>\u001b[0m kwds[\u001b[39m\"\u001b[39m\u001b[39mmetric\u001b[39m\u001b[39m\"\u001b[39m] \u001b[39m=\u001b[39m metric\n\u001b[1;32m    <a href='file:///home/henryx/anaconda3/lib/python3.9/site-packages/sklearn/metrics/cluster/_unsupervised.py?line=229'>230</a>\u001b[0m reduce_func \u001b[39m=\u001b[39m functools\u001b[39m.\u001b[39mpartial(\n\u001b[1;32m    <a href='file:///home/henryx/anaconda3/lib/python3.9/site-packages/sklearn/metrics/cluster/_unsupervised.py?line=230'>231</a>\u001b[0m     _silhouette_reduce, labels\u001b[39m=\u001b[39mlabels, label_freqs\u001b[39m=\u001b[39mlabel_freqs\n\u001b[1;32m    <a href='file:///home/henryx/anaconda3/lib/python3.9/site-packages/sklearn/metrics/cluster/_unsupervised.py?line=231'>232</a>\u001b[0m )\n\u001b[0;32m--> <a href='file:///home/henryx/anaconda3/lib/python3.9/site-packages/sklearn/metrics/cluster/_unsupervised.py?line=232'>233</a>\u001b[0m results \u001b[39m=\u001b[39m \u001b[39mzip\u001b[39;49m(\u001b[39m*\u001b[39;49mpairwise_distances_chunked(X, reduce_func\u001b[39m=\u001b[39;49mreduce_func, \u001b[39m*\u001b[39;49m\u001b[39m*\u001b[39;49mkwds))\n\u001b[1;32m    <a href='file:///home/henryx/anaconda3/lib/python3.9/site-packages/sklearn/metrics/cluster/_unsupervised.py?line=233'>234</a>\u001b[0m intra_clust_dists, inter_clust_dists \u001b[39m=\u001b[39m results\n\u001b[1;32m    <a href='file:///home/henryx/anaconda3/lib/python3.9/site-packages/sklearn/metrics/cluster/_unsupervised.py?line=234'>235</a>\u001b[0m intra_clust_dists \u001b[39m=\u001b[39m np\u001b[39m.\u001b[39mconcatenate(intra_clust_dists)\n",
      "File \u001b[0;32m~/anaconda3/lib/python3.9/site-packages/sklearn/metrics/pairwise.py:1717\u001b[0m, in \u001b[0;36mpairwise_distances_chunked\u001b[0;34m(X, Y, reduce_func, metric, n_jobs, working_memory, **kwds)\u001b[0m\n\u001b[1;32m   <a href='file:///home/henryx/anaconda3/lib/python3.9/site-packages/sklearn/metrics/pairwise.py?line=1714'>1715</a>\u001b[0m \u001b[39melse\u001b[39;00m:\n\u001b[1;32m   <a href='file:///home/henryx/anaconda3/lib/python3.9/site-packages/sklearn/metrics/pairwise.py?line=1715'>1716</a>\u001b[0m     X_chunk \u001b[39m=\u001b[39m X[sl]\n\u001b[0;32m-> <a href='file:///home/henryx/anaconda3/lib/python3.9/site-packages/sklearn/metrics/pairwise.py?line=1716'>1717</a>\u001b[0m D_chunk \u001b[39m=\u001b[39m pairwise_distances(X_chunk, Y, metric\u001b[39m=\u001b[39;49mmetric, n_jobs\u001b[39m=\u001b[39;49mn_jobs, \u001b[39m*\u001b[39;49m\u001b[39m*\u001b[39;49mkwds)\n\u001b[1;32m   <a href='file:///home/henryx/anaconda3/lib/python3.9/site-packages/sklearn/metrics/pairwise.py?line=1717'>1718</a>\u001b[0m \u001b[39mif\u001b[39;00m (X \u001b[39mis\u001b[39;00m Y \u001b[39mor\u001b[39;00m Y \u001b[39mis\u001b[39;00m \u001b[39mNone\u001b[39;00m) \u001b[39mand\u001b[39;00m PAIRWISE_DISTANCE_FUNCTIONS\u001b[39m.\u001b[39mget(\n\u001b[1;32m   <a href='file:///home/henryx/anaconda3/lib/python3.9/site-packages/sklearn/metrics/pairwise.py?line=1718'>1719</a>\u001b[0m     metric, \u001b[39mNone\u001b[39;00m\n\u001b[1;32m   <a href='file:///home/henryx/anaconda3/lib/python3.9/site-packages/sklearn/metrics/pairwise.py?line=1719'>1720</a>\u001b[0m ) \u001b[39mis\u001b[39;00m euclidean_distances:\n\u001b[1;32m   <a href='file:///home/henryx/anaconda3/lib/python3.9/site-packages/sklearn/metrics/pairwise.py?line=1720'>1721</a>\u001b[0m     \u001b[39m# zeroing diagonal, taking care of aliases of \"euclidean\",\u001b[39;00m\n\u001b[1;32m   <a href='file:///home/henryx/anaconda3/lib/python3.9/site-packages/sklearn/metrics/pairwise.py?line=1721'>1722</a>\u001b[0m     \u001b[39m# i.e. \"l2\"\u001b[39;00m\n\u001b[1;32m   <a href='file:///home/henryx/anaconda3/lib/python3.9/site-packages/sklearn/metrics/pairwise.py?line=1722'>1723</a>\u001b[0m     D_chunk\u001b[39m.\u001b[39mflat[sl\u001b[39m.\u001b[39mstart :: _num_samples(X) \u001b[39m+\u001b[39m \u001b[39m1\u001b[39m] \u001b[39m=\u001b[39m \u001b[39m0\u001b[39m\n",
      "File \u001b[0;32m~/anaconda3/lib/python3.9/site-packages/sklearn/metrics/pairwise.py:1889\u001b[0m, in \u001b[0;36mpairwise_distances\u001b[0;34m(X, Y, metric, n_jobs, force_all_finite, **kwds)\u001b[0m\n\u001b[1;32m   <a href='file:///home/henryx/anaconda3/lib/python3.9/site-packages/sklearn/metrics/pairwise.py?line=1885'>1886</a>\u001b[0m         \u001b[39mreturn\u001b[39;00m distance\u001b[39m.\u001b[39msquareform(distance\u001b[39m.\u001b[39mpdist(X, metric\u001b[39m=\u001b[39mmetric, \u001b[39m*\u001b[39m\u001b[39m*\u001b[39mkwds))\n\u001b[1;32m   <a href='file:///home/henryx/anaconda3/lib/python3.9/site-packages/sklearn/metrics/pairwise.py?line=1886'>1887</a>\u001b[0m     func \u001b[39m=\u001b[39m partial(distance\u001b[39m.\u001b[39mcdist, metric\u001b[39m=\u001b[39mmetric, \u001b[39m*\u001b[39m\u001b[39m*\u001b[39mkwds)\n\u001b[0;32m-> <a href='file:///home/henryx/anaconda3/lib/python3.9/site-packages/sklearn/metrics/pairwise.py?line=1888'>1889</a>\u001b[0m \u001b[39mreturn\u001b[39;00m _parallel_pairwise(X, Y, func, n_jobs, \u001b[39m*\u001b[39;49m\u001b[39m*\u001b[39;49mkwds)\n",
      "File \u001b[0;32m~/anaconda3/lib/python3.9/site-packages/sklearn/metrics/pairwise.py:1430\u001b[0m, in \u001b[0;36m_parallel_pairwise\u001b[0;34m(X, Y, func, n_jobs, **kwds)\u001b[0m\n\u001b[1;32m   <a href='file:///home/henryx/anaconda3/lib/python3.9/site-packages/sklearn/metrics/pairwise.py?line=1426'>1427</a>\u001b[0m X, Y, dtype \u001b[39m=\u001b[39m _return_float_dtype(X, Y)\n\u001b[1;32m   <a href='file:///home/henryx/anaconda3/lib/python3.9/site-packages/sklearn/metrics/pairwise.py?line=1428'>1429</a>\u001b[0m \u001b[39mif\u001b[39;00m effective_n_jobs(n_jobs) \u001b[39m==\u001b[39m \u001b[39m1\u001b[39m:\n\u001b[0;32m-> <a href='file:///home/henryx/anaconda3/lib/python3.9/site-packages/sklearn/metrics/pairwise.py?line=1429'>1430</a>\u001b[0m     \u001b[39mreturn\u001b[39;00m func(X, Y, \u001b[39m*\u001b[39;49m\u001b[39m*\u001b[39;49mkwds)\n\u001b[1;32m   <a href='file:///home/henryx/anaconda3/lib/python3.9/site-packages/sklearn/metrics/pairwise.py?line=1431'>1432</a>\u001b[0m \u001b[39m# enforce a threading backend to prevent data communication overhead\u001b[39;00m\n\u001b[1;32m   <a href='file:///home/henryx/anaconda3/lib/python3.9/site-packages/sklearn/metrics/pairwise.py?line=1432'>1433</a>\u001b[0m fd \u001b[39m=\u001b[39m delayed(_dist_wrapper)\n",
      "File \u001b[0;32m~/anaconda3/lib/python3.9/site-packages/sklearn/metrics/pairwise.py:330\u001b[0m, in \u001b[0;36meuclidean_distances\u001b[0;34m(X, Y, Y_norm_squared, squared, X_norm_squared)\u001b[0m\n\u001b[1;32m    <a href='file:///home/henryx/anaconda3/lib/python3.9/site-packages/sklearn/metrics/pairwise.py?line=323'>324</a>\u001b[0m     \u001b[39mif\u001b[39;00m Y_norm_squared\u001b[39m.\u001b[39mshape \u001b[39m!=\u001b[39m (\u001b[39m1\u001b[39m, Y\u001b[39m.\u001b[39mshape[\u001b[39m0\u001b[39m]):\n\u001b[1;32m    <a href='file:///home/henryx/anaconda3/lib/python3.9/site-packages/sklearn/metrics/pairwise.py?line=324'>325</a>\u001b[0m         \u001b[39mraise\u001b[39;00m \u001b[39mValueError\u001b[39;00m(\n\u001b[1;32m    <a href='file:///home/henryx/anaconda3/lib/python3.9/site-packages/sklearn/metrics/pairwise.py?line=325'>326</a>\u001b[0m             \u001b[39mf\u001b[39m\u001b[39m\"\u001b[39m\u001b[39mIncompatible dimensions for Y of shape \u001b[39m\u001b[39m{\u001b[39;00mY\u001b[39m.\u001b[39mshape\u001b[39m}\u001b[39;00m\u001b[39m and \u001b[39m\u001b[39m\"\u001b[39m\n\u001b[1;32m    <a href='file:///home/henryx/anaconda3/lib/python3.9/site-packages/sklearn/metrics/pairwise.py?line=326'>327</a>\u001b[0m             \u001b[39mf\u001b[39m\u001b[39m\"\u001b[39m\u001b[39mY_norm_squared of shape \u001b[39m\u001b[39m{\u001b[39;00moriginal_shape\u001b[39m}\u001b[39;00m\u001b[39m.\u001b[39m\u001b[39m\"\u001b[39m\n\u001b[1;32m    <a href='file:///home/henryx/anaconda3/lib/python3.9/site-packages/sklearn/metrics/pairwise.py?line=327'>328</a>\u001b[0m         )\n\u001b[0;32m--> <a href='file:///home/henryx/anaconda3/lib/python3.9/site-packages/sklearn/metrics/pairwise.py?line=329'>330</a>\u001b[0m \u001b[39mreturn\u001b[39;00m _euclidean_distances(X, Y, X_norm_squared, Y_norm_squared, squared)\n",
      "File \u001b[0;32m~/anaconda3/lib/python3.9/site-packages/sklearn/metrics/pairwise.py:371\u001b[0m, in \u001b[0;36m_euclidean_distances\u001b[0;34m(X, Y, X_norm_squared, Y_norm_squared, squared)\u001b[0m\n\u001b[1;32m    <a href='file:///home/henryx/anaconda3/lib/python3.9/site-packages/sklearn/metrics/pairwise.py?line=367'>368</a>\u001b[0m     distances \u001b[39m=\u001b[39m _euclidean_distances_upcast(X, XX, Y, YY)\n\u001b[1;32m    <a href='file:///home/henryx/anaconda3/lib/python3.9/site-packages/sklearn/metrics/pairwise.py?line=368'>369</a>\u001b[0m \u001b[39melse\u001b[39;00m:\n\u001b[1;32m    <a href='file:///home/henryx/anaconda3/lib/python3.9/site-packages/sklearn/metrics/pairwise.py?line=369'>370</a>\u001b[0m     \u001b[39m# if dtype is already float64, no need to chunk and upcast\u001b[39;00m\n\u001b[0;32m--> <a href='file:///home/henryx/anaconda3/lib/python3.9/site-packages/sklearn/metrics/pairwise.py?line=370'>371</a>\u001b[0m     distances \u001b[39m=\u001b[39m \u001b[39m-\u001b[39m\u001b[39m2\u001b[39m \u001b[39m*\u001b[39m safe_sparse_dot(X, Y\u001b[39m.\u001b[39;49mT, dense_output\u001b[39m=\u001b[39;49m\u001b[39mTrue\u001b[39;49;00m)\n\u001b[1;32m    <a href='file:///home/henryx/anaconda3/lib/python3.9/site-packages/sklearn/metrics/pairwise.py?line=371'>372</a>\u001b[0m     distances \u001b[39m+\u001b[39m\u001b[39m=\u001b[39m XX\n\u001b[1;32m    <a href='file:///home/henryx/anaconda3/lib/python3.9/site-packages/sklearn/metrics/pairwise.py?line=372'>373</a>\u001b[0m     distances \u001b[39m+\u001b[39m\u001b[39m=\u001b[39m YY\n",
      "File \u001b[0;32m~/anaconda3/lib/python3.9/site-packages/sklearn/utils/extmath.py:153\u001b[0m, in \u001b[0;36msafe_sparse_dot\u001b[0;34m(a, b, dense_output)\u001b[0m\n\u001b[1;32m    <a href='file:///home/henryx/anaconda3/lib/python3.9/site-packages/sklearn/utils/extmath.py?line=150'>151</a>\u001b[0m         ret \u001b[39m=\u001b[39m np\u001b[39m.\u001b[39mdot(a, b)\n\u001b[1;32m    <a href='file:///home/henryx/anaconda3/lib/python3.9/site-packages/sklearn/utils/extmath.py?line=151'>152</a>\u001b[0m \u001b[39melse\u001b[39;00m:\n\u001b[0;32m--> <a href='file:///home/henryx/anaconda3/lib/python3.9/site-packages/sklearn/utils/extmath.py?line=152'>153</a>\u001b[0m     ret \u001b[39m=\u001b[39m a \u001b[39m@\u001b[39;49m b\n\u001b[1;32m    <a href='file:///home/henryx/anaconda3/lib/python3.9/site-packages/sklearn/utils/extmath.py?line=154'>155</a>\u001b[0m \u001b[39mif\u001b[39;00m (\n\u001b[1;32m    <a href='file:///home/henryx/anaconda3/lib/python3.9/site-packages/sklearn/utils/extmath.py?line=155'>156</a>\u001b[0m     sparse\u001b[39m.\u001b[39missparse(a)\n\u001b[1;32m    <a href='file:///home/henryx/anaconda3/lib/python3.9/site-packages/sklearn/utils/extmath.py?line=156'>157</a>\u001b[0m     \u001b[39mand\u001b[39;00m sparse\u001b[39m.\u001b[39missparse(b)\n\u001b[1;32m    <a href='file:///home/henryx/anaconda3/lib/python3.9/site-packages/sklearn/utils/extmath.py?line=157'>158</a>\u001b[0m     \u001b[39mand\u001b[39;00m dense_output\n\u001b[1;32m    <a href='file:///home/henryx/anaconda3/lib/python3.9/site-packages/sklearn/utils/extmath.py?line=158'>159</a>\u001b[0m     \u001b[39mand\u001b[39;00m \u001b[39mhasattr\u001b[39m(ret, \u001b[39m\"\u001b[39m\u001b[39mtoarray\u001b[39m\u001b[39m\"\u001b[39m)\n\u001b[1;32m    <a href='file:///home/henryx/anaconda3/lib/python3.9/site-packages/sklearn/utils/extmath.py?line=159'>160</a>\u001b[0m ):\n\u001b[1;32m    <a href='file:///home/henryx/anaconda3/lib/python3.9/site-packages/sklearn/utils/extmath.py?line=160'>161</a>\u001b[0m     \u001b[39mreturn\u001b[39;00m ret\u001b[39m.\u001b[39mtoarray()\n",
      "\u001b[0;31mKeyboardInterrupt\u001b[0m: "
     ]
    }
   ],
   "source": [
    "# Aplicar el método de la silueta\n",
    "from sklearn.metrics import silhouette_score\n",
    "range_n_clusters = range(2, 15)\n",
    "valores_medios_silhouette = []\n",
    "\n",
    "for i in range_n_clusters:\n",
    "    kmeans = KMeans(n_clusters   = i, \n",
    "                    init         = 'k-means++', \n",
    "                    max_iter     = 300, \n",
    "                    n_init       = 10, \n",
    "                    random_state = 42)\n",
    "    cluster_labels = kmeans.fit_predict(df1)\n",
    "    silhouette_avg = silhouette_score(df1, cluster_labels)\n",
    "    valores_medios_silhouette.append(silhouette_avg)\n",
    "    \n",
    "fig, ax = plt.subplots(1, 1, figsize=(6, 3.84))\n",
    "ax.plot(range_n_clusters, valores_medios_silhouette, marker='o')\n",
    "ax.set_title(\"Evolución de media de los índices silhouette\")\n",
    "ax.set_xlabel('Número clusters')\n",
    "ax.set_ylabel('Media índices silhouette');"
   ]
  },
  {
   "cell_type": "markdown",
   "metadata": {},
   "source": [
    "### Entrenamiento del modelo K-means"
   ]
  },
  {
   "cell_type": "code",
   "execution_count": 135,
   "metadata": {},
   "outputs": [],
   "source": [
    "# Entrenamiento del modelo con el número de clústers óptimo\n",
    "#El número de clústers\n",
    "k=3\n",
    "#Definición de parámetos del modelo\n",
    "kmeans = KMeans(n_clusters = k, init = 'k-means++', max_iter = 300, n_init = 10, random_state = 42)\n",
    "#Entrenamiento del modelo\n",
    "etiqueta = kmeans.fit(df1)"
   ]
  },
  {
   "cell_type": "code",
   "execution_count": 136,
   "metadata": {},
   "outputs": [
    {
     "data": {
      "text/plain": [
       "array([[ 3.14170907,  2.1530446 ,  4.53189063],\n",
       "       [12.78515894,  5.04485779, 58.26015746],\n",
       "       [ 8.40963536,  2.98548411, 18.23080929]])"
      ]
     },
     "execution_count": 136,
     "metadata": {},
     "output_type": "execute_result"
    }
   ],
   "source": [
    "# Imprimir los centroides de cada clúster\n",
    "\n",
    "kmeans.cluster_centers_\n"
   ]
  },
  {
   "cell_type": "markdown",
   "metadata": {},
   "source": [
    "# 8. Visualización de datos\n",
    "La capacidad de analizar grandes cantidades de datos y obtener información útil tiene poco valor si los únicos que pueden interpretar los resultados son los analistas.\n",
    "La etapa de visualización de datos se dedica a utilizar técnicas y herramientas de visualización de datos para comunicar gráficamente los resultados del análisis con vistas a una interpretación eficaz por parte de los usuarios empresariales."
   ]
  },
  {
   "cell_type": "code",
   "execution_count": 137,
   "metadata": {},
   "outputs": [
    {
     "name": "stderr",
     "output_type": "stream",
     "text": [
      "/tmp/ipykernel_6568/2726186648.py:4: SettingWithCopyWarning: \n",
      "A value is trying to be set on a copy of a slice from a DataFrame.\n",
      "Try using .loc[row_indexer,col_indexer] = value instead\n",
      "\n",
      "See the caveats in the documentation: https://pandas.pydata.org/pandas-docs/stable/user_guide/indexing.html#returning-a-view-versus-a-copy\n",
      "  df1['Cluster_kmeans'] = etiquetas\n"
     ]
    },
    {
     "data": {
      "text/html": [
       "<div>\n",
       "<style scoped>\n",
       "    .dataframe tbody tr th:only-of-type {\n",
       "        vertical-align: middle;\n",
       "    }\n",
       "\n",
       "    .dataframe tbody tr th {\n",
       "        vertical-align: top;\n",
       "    }\n",
       "\n",
       "    .dataframe thead th {\n",
       "        text-align: right;\n",
       "    }\n",
       "</style>\n",
       "<table border=\"1\" class=\"dataframe\">\n",
       "  <thead>\n",
       "    <tr style=\"text-align: right;\">\n",
       "      <th></th>\n",
       "      <th>Quantity</th>\n",
       "      <th>UnitPrice</th>\n",
       "      <th>total_val</th>\n",
       "      <th>Cluster_kmeans</th>\n",
       "    </tr>\n",
       "  </thead>\n",
       "  <tbody>\n",
       "    <tr>\n",
       "      <th>0</th>\n",
       "      <td>6</td>\n",
       "      <td>2.55</td>\n",
       "      <td>15.30</td>\n",
       "      <td>2</td>\n",
       "    </tr>\n",
       "    <tr>\n",
       "      <th>1</th>\n",
       "      <td>6</td>\n",
       "      <td>3.39</td>\n",
       "      <td>20.34</td>\n",
       "      <td>2</td>\n",
       "    </tr>\n",
       "    <tr>\n",
       "      <th>2</th>\n",
       "      <td>8</td>\n",
       "      <td>2.75</td>\n",
       "      <td>22.00</td>\n",
       "      <td>2</td>\n",
       "    </tr>\n",
       "    <tr>\n",
       "      <th>3</th>\n",
       "      <td>6</td>\n",
       "      <td>3.39</td>\n",
       "      <td>20.34</td>\n",
       "      <td>2</td>\n",
       "    </tr>\n",
       "    <tr>\n",
       "      <th>4</th>\n",
       "      <td>6</td>\n",
       "      <td>3.39</td>\n",
       "      <td>20.34</td>\n",
       "      <td>2</td>\n",
       "    </tr>\n",
       "  </tbody>\n",
       "</table>\n",
       "</div>"
      ],
      "text/plain": [
       "   Quantity  UnitPrice  total_val  Cluster_kmeans\n",
       "0         6       2.55      15.30               2\n",
       "1         6       3.39      20.34               2\n",
       "2         8       2.75      22.00               2\n",
       "3         6       3.39      20.34               2\n",
       "4         6       3.39      20.34               2"
      ]
     },
     "execution_count": 137,
     "metadata": {},
     "output_type": "execute_result"
    }
   ],
   "source": [
    "# Graficar la distribución de clientes por clúster\n",
    "etiquetas = kmeans.labels_\n",
    "# Agregamos al dataset la etiqueta\n",
    "df1['Cluster_kmeans'] = etiquetas\n",
    "df1.head()\n"
   ]
  },
  {
   "cell_type": "code",
   "execution_count": 142,
   "metadata": {},
   "outputs": [
    {
     "data": {
      "text/plain": [
       "0    172960\n",
       "2    143347\n",
       "1     10161\n",
       "Name: Cluster_kmeans, dtype: int64"
      ]
     },
     "execution_count": 142,
     "metadata": {},
     "output_type": "execute_result"
    }
   ],
   "source": [
    "df1['Cluster_kmeans'].value_counts()"
   ]
  },
  {
   "cell_type": "code",
   "execution_count": 138,
   "metadata": {},
   "outputs": [
    {
     "data": {
      "text/plain": [
       "<seaborn.axisgrid.FacetGrid at 0x7eff44bde3a0>"
      ]
     },
     "execution_count": 138,
     "metadata": {},
     "output_type": "execute_result"
    },
    {
     "data": {
      "image/png": "[encoded data removed]",
      "text/plain": [
       "<Figure size 447.75x360 with 1 Axes>"
      ]
     },
     "metadata": {
      "needs_background": "light"
     },
     "output_type": "display_data"
    }
   ],
   "source": [
    "sns.lmplot(x = 'UnitPrice', y = 'total_val',  data = df1,\n",
    "        hue = 'Cluster_kmeans')"
   ]
  },
  {
   "cell_type": "code",
   "execution_count": null,
   "metadata": {},
   "outputs": [],
   "source": []
  },
  {
   "cell_type": "code",
   "execution_count": 139,
   "metadata": {},
   "outputs": [
    {
     "data": {
      "text/plain": [
       "<seaborn.axisgrid.FacetGrid at 0x7eff44bded60>"
      ]
     },
     "execution_count": 139,
     "metadata": {},
     "output_type": "execute_result"
    },
    {
     "data": {
      "image/png": "[encoded data removed]",
      "text/plain": [
       "<Figure size 447.75x360 with 1 Axes>"
      ]
     },
     "metadata": {
      "needs_background": "light"
     },
     "output_type": "display_data"
    }
   ],
   "source": [
    "sns.lmplot(x = 'Quantity', y = 'UnitPrice',  data = df1,\n",
    "        hue = 'Cluster_kmeans')"
   ]
  },
  {
   "cell_type": "code",
   "execution_count": null,
   "metadata": {},
   "outputs": [],
   "source": [
    "sns.lmplot(x = 'UnitPrice', y = 'Quantity',  data = df1,\n",
    "        hue = 'Cluster_kmeans')"
   ]
  },
  {
   "cell_type": "markdown",
   "metadata": {},
   "source": [
    "Usando solo  3 "
   ]
  },
  {
   "cell_type": "markdown",
   "metadata": {},
   "source": [
    "# 9. Utilización de los resultados del análisis\n",
    "Después de que los resultados del análisis se pongan a disposición de los usuarios de negocio para apoyar la toma de decisiones empresariales, por ejemplo a través de cuadros de mando o paneles, puede haber más oportunidades para utilizar los resultados del análisis. La etapa de utilización de los resultados del análisis, esta enfocada en determinar cómo y dónde se pueden aprovechar más los datos del análisis procesado."
   ]
  },
  {
   "cell_type": "code",
   "execution_count": null,
   "metadata": {},
   "outputs": [],
   "source": [
    "# Haga un breve análisis de los hallazgos \n"
   ]
  },
  {
   "cell_type": "code",
   "execution_count": 143,
   "metadata": {},
   "outputs": [
    {
     "data": {
      "text/plain": [
       "Cluster_kmeans\n",
       "0     783835.804\n",
       "1     591981.460\n",
       "2    2613331.820\n",
       "Name: total_val, dtype: float64"
      ]
     },
     "execution_count": 143,
     "metadata": {},
     "output_type": "execute_result"
    }
   ],
   "source": [
    "df1.groupby('Cluster_kmeans')['total_val'].sum()"
   ]
  },
  {
   "cell_type": "markdown",
   "metadata": {},
   "source": [
    "Podemos observar que al excluir la identificación del cliente, hemos generado con éxito tres grupos distintos en la primera imagen que representa UnitPrice versus el Quantity. Es evidente que el grupo más grande de productos vendidos se encuentra dentro de este grupo, caracterizado por vender mas pero genar menos ingresos. El segundo clúster es similar al primero, pero menos ventas. El último grupo comprende menos ventas; sin embargo, son los que tienen precios más altos por unidad y contribuyen más a los ingresos totales. En consecuencia, este gráfico representa efectivamente la diferencia en ventas entre productos de diferentes precios. Sugiriendo que mientras menos sea el precio mas unidades se van a vender."
   ]
  },
  {
   "cell_type": "code",
   "execution_count": null,
   "metadata": {},
   "outputs": [],
   "source": [
    "# Qué acciones sugerería a los directivos de la empresa?\n"
   ]
  },
  {
   "cell_type": "markdown",
   "metadata": {},
   "source": [
    "La estrategia que propongo consiste en mantener precios convenientes para productos de alto precio y ofrecer promociones en productos de bajo precio, con el objetivo de incentivar a los clientes a comprar más artículos. Este enfoque puede ser efectivo para promover la idea de que comprar más productos puede ser beneficioso. Aquí hay un desglose de los pasos que puede seguir para implementar esta estrategia:\n",
    "\n",
    "- Analizar la cartera de productos: identificar los productos de alto precio que son esenciales para generar mayores ingresos y los productos de bajo precio que tienen el potencial de aumentar las ventas.\n",
    "\n",
    "- Determinar el precio óptimo: Realizar estudios de mercado y analice el comportamiento del cliente para establecer puntos de precio adecuados para sus productos de alto precio. Considerar factores como los costos de producción, los precios de la competencia y la disposición a pagar del cliente. El objetivo es lograr un equilibrio entre la rentabilidad y el atractivo para los clientes."
   ]
  }
 ],
 "metadata": {
  "application/vnd.databricks.v1+notebook": {
   "dashboards": [],
   "language": "python",
   "notebookMetadata": {
    "mostRecentlyExecutedCommandWithImplicitDF": {
     "commandId": 1676219506020237,
     "dataframes": [
      "_sqldf"
     ]
    },
    "pythonIndentUnit": 2
   },
   "notebookName": "01 Segmentación K-means",
   "notebookOrigID": 1676219506020198,
   "widgets": {}
  },
  "interpreter": {
   "hash": "c629e06671d42d262ce370bbb00ab382667744bfebe13cb1c7262c94987f6270"
  },
  "kernelspec": {
   "display_name": "Python 3.9.12 ('base')",
   "language": "python",
   "name": "python3"
  },
  "language_info": {
   "codemirror_mode": {
    "name": "ipython",
    "version": 3
   },
   "file_extension": ".py",
   "mimetype": "text/x-python",
   "name": "python",
   "nbconvert_exporter": "python",
   "pygments_lexer": "ipython3",
   "version": "3.9.12"
  }
 },
 "nbformat": 4,
 "nbformat_minor": 4
}
